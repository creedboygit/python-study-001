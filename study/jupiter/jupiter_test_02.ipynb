{
 "cells": [
  {
   "cell_type": "code",
   "outputs": [],
   "source": [
    "from selenium import webdriver\n",
    "from selenium.webdriver.common.by import By"
   ],
   "metadata": {
    "collapsed": false,
    "ExecuteTime": {
     "end_time": "2024-01-13T04:15:06.837794700Z",
     "start_time": "2024-01-13T04:15:06.836289800Z"
    }
   },
   "id": "188af4d1866fed7c",
   "execution_count": 17
  },
  {
   "cell_type": "code",
   "outputs": [],
   "source": [
    "driver = webdriver.Chrome()"
   ],
   "metadata": {
    "collapsed": false,
    "ExecuteTime": {
     "end_time": "2024-01-13T04:15:19.163897200Z",
     "start_time": "2024-01-13T04:15:18.077851700Z"
    }
   },
   "id": "a30822915f9a026d",
   "execution_count": 21
  },
  {
   "cell_type": "code",
   "outputs": [
    {
     "ename": "NoSuchWindowException",
     "evalue": "Message: no such window: target window already closed\nfrom unknown error: web view not found\n  (Session info: chrome=120.0.6099.217)\nStacktrace:\n\tGetHandleVerifier [0x00007FF652332142+3514994]\n\t(No symbol) [0x00007FF651F50CE2]\n\t(No symbol) [0x00007FF651DF76AA]\n\t(No symbol) [0x00007FF651DD0AFD]\n\t(No symbol) [0x00007FF651E6CB1B]\n\t(No symbol) [0x00007FF651E8218F]\n\t(No symbol) [0x00007FF651E65D93]\n\t(No symbol) [0x00007FF651E34BDC]\n\t(No symbol) [0x00007FF651E35C64]\n\tGetHandleVerifier [0x00007FF65235E16B+3695259]\n\tGetHandleVerifier [0x00007FF6523B6737+4057191]\n\tGetHandleVerifier [0x00007FF6523AE4E3+4023827]\n\tGetHandleVerifier [0x00007FF6520804F9+689705]\n\t(No symbol) [0x00007FF651F5C048]\n\t(No symbol) [0x00007FF651F58044]\n\t(No symbol) [0x00007FF651F581C9]\n\t(No symbol) [0x00007FF651F488C4]\n\tBaseThreadInitThunk [0x00007FFE727E7344+20]\n\tRtlUserThreadStart [0x00007FFE744226B1+33]\n",
     "output_type": "error",
     "traceback": [
      "\u001B[1;31m---------------------------------------------------------------------------\u001B[0m",
      "\u001B[1;31mNoSuchWindowException\u001B[0m                     Traceback (most recent call last)",
      "Cell \u001B[1;32mIn[20], line 1\u001B[0m\n\u001B[1;32m----> 1\u001B[0m \u001B[43mdriver\u001B[49m\u001B[38;5;241;43m.\u001B[39;49m\u001B[43mget\u001B[49m\u001B[43m(\u001B[49m\u001B[38;5;124;43m\"\u001B[39;49m\u001B[38;5;124;43mhttps://naver.com\u001B[39;49m\u001B[38;5;124;43m\"\u001B[39;49m\u001B[43m)\u001B[49m\n",
      "File \u001B[1;32mD:\\940 python_study\\200 study\\210 basic\\pythonProject\\.venv\\Lib\\site-packages\\selenium\\webdriver\\remote\\webdriver.py:357\u001B[0m, in \u001B[0;36mWebDriver.get\u001B[1;34m(self, url)\u001B[0m\n\u001B[0;32m    355\u001B[0m \u001B[38;5;28;01mdef\u001B[39;00m \u001B[38;5;21mget\u001B[39m(\u001B[38;5;28mself\u001B[39m, url: \u001B[38;5;28mstr\u001B[39m) \u001B[38;5;241m-\u001B[39m\u001B[38;5;241m>\u001B[39m \u001B[38;5;28;01mNone\u001B[39;00m:\n\u001B[0;32m    356\u001B[0m \u001B[38;5;250m    \u001B[39m\u001B[38;5;124;03m\"\"\"Loads a web page in the current browser session.\"\"\"\u001B[39;00m\n\u001B[1;32m--> 357\u001B[0m     \u001B[38;5;28;43mself\u001B[39;49m\u001B[38;5;241;43m.\u001B[39;49m\u001B[43mexecute\u001B[49m\u001B[43m(\u001B[49m\u001B[43mCommand\u001B[49m\u001B[38;5;241;43m.\u001B[39;49m\u001B[43mGET\u001B[49m\u001B[43m,\u001B[49m\u001B[43m \u001B[49m\u001B[43m{\u001B[49m\u001B[38;5;124;43m\"\u001B[39;49m\u001B[38;5;124;43murl\u001B[39;49m\u001B[38;5;124;43m\"\u001B[39;49m\u001B[43m:\u001B[49m\u001B[43m \u001B[49m\u001B[43murl\u001B[49m\u001B[43m}\u001B[49m\u001B[43m)\u001B[49m\n",
      "File \u001B[1;32mD:\\940 python_study\\200 study\\210 basic\\pythonProject\\.venv\\Lib\\site-packages\\selenium\\webdriver\\remote\\webdriver.py:348\u001B[0m, in \u001B[0;36mWebDriver.execute\u001B[1;34m(self, driver_command, params)\u001B[0m\n\u001B[0;32m    346\u001B[0m response \u001B[38;5;241m=\u001B[39m \u001B[38;5;28mself\u001B[39m\u001B[38;5;241m.\u001B[39mcommand_executor\u001B[38;5;241m.\u001B[39mexecute(driver_command, params)\n\u001B[0;32m    347\u001B[0m \u001B[38;5;28;01mif\u001B[39;00m response:\n\u001B[1;32m--> 348\u001B[0m     \u001B[38;5;28;43mself\u001B[39;49m\u001B[38;5;241;43m.\u001B[39;49m\u001B[43merror_handler\u001B[49m\u001B[38;5;241;43m.\u001B[39;49m\u001B[43mcheck_response\u001B[49m\u001B[43m(\u001B[49m\u001B[43mresponse\u001B[49m\u001B[43m)\u001B[49m\n\u001B[0;32m    349\u001B[0m     response[\u001B[38;5;124m\"\u001B[39m\u001B[38;5;124mvalue\u001B[39m\u001B[38;5;124m\"\u001B[39m] \u001B[38;5;241m=\u001B[39m \u001B[38;5;28mself\u001B[39m\u001B[38;5;241m.\u001B[39m_unwrap_value(response\u001B[38;5;241m.\u001B[39mget(\u001B[38;5;124m\"\u001B[39m\u001B[38;5;124mvalue\u001B[39m\u001B[38;5;124m\"\u001B[39m, \u001B[38;5;28;01mNone\u001B[39;00m))\n\u001B[0;32m    350\u001B[0m     \u001B[38;5;28;01mreturn\u001B[39;00m response\n",
      "File \u001B[1;32mD:\\940 python_study\\200 study\\210 basic\\pythonProject\\.venv\\Lib\\site-packages\\selenium\\webdriver\\remote\\errorhandler.py:229\u001B[0m, in \u001B[0;36mErrorHandler.check_response\u001B[1;34m(self, response)\u001B[0m\n\u001B[0;32m    227\u001B[0m         alert_text \u001B[38;5;241m=\u001B[39m value[\u001B[38;5;124m\"\u001B[39m\u001B[38;5;124malert\u001B[39m\u001B[38;5;124m\"\u001B[39m]\u001B[38;5;241m.\u001B[39mget(\u001B[38;5;124m\"\u001B[39m\u001B[38;5;124mtext\u001B[39m\u001B[38;5;124m\"\u001B[39m)\n\u001B[0;32m    228\u001B[0m     \u001B[38;5;28;01mraise\u001B[39;00m exception_class(message, screen, stacktrace, alert_text)  \u001B[38;5;66;03m# type: ignore[call-arg]  # mypy is not smart enough here\u001B[39;00m\n\u001B[1;32m--> 229\u001B[0m \u001B[38;5;28;01mraise\u001B[39;00m exception_class(message, screen, stacktrace)\n",
      "\u001B[1;31mNoSuchWindowException\u001B[0m: Message: no such window: target window already closed\nfrom unknown error: web view not found\n  (Session info: chrome=120.0.6099.217)\nStacktrace:\n\tGetHandleVerifier [0x00007FF652332142+3514994]\n\t(No symbol) [0x00007FF651F50CE2]\n\t(No symbol) [0x00007FF651DF76AA]\n\t(No symbol) [0x00007FF651DD0AFD]\n\t(No symbol) [0x00007FF651E6CB1B]\n\t(No symbol) [0x00007FF651E8218F]\n\t(No symbol) [0x00007FF651E65D93]\n\t(No symbol) [0x00007FF651E34BDC]\n\t(No symbol) [0x00007FF651E35C64]\n\tGetHandleVerifier [0x00007FF65235E16B+3695259]\n\tGetHandleVerifier [0x00007FF6523B6737+4057191]\n\tGetHandleVerifier [0x00007FF6523AE4E3+4023827]\n\tGetHandleVerifier [0x00007FF6520804F9+689705]\n\t(No symbol) [0x00007FF651F5C048]\n\t(No symbol) [0x00007FF651F58044]\n\t(No symbol) [0x00007FF651F581C9]\n\t(No symbol) [0x00007FF651F488C4]\n\tBaseThreadInitThunk [0x00007FFE727E7344+20]\n\tRtlUserThreadStart [0x00007FFE744226B1+33]\n"
     ]
    }
   ],
   "source": [
    "driver.get(\"https://naver.com\")"
   ],
   "metadata": {
    "collapsed": false,
    "ExecuteTime": {
     "end_time": "2024-01-13T04:15:15.083209400Z",
     "start_time": "2024-01-13T04:15:15.064858900Z"
    }
   },
   "id": "64713cc35e821748",
   "execution_count": 20
  }
 ],
 "metadata": {
  "kernelspec": {
   "display_name": "Python 3",
   "language": "python",
   "name": "python3"
  },
  "language_info": {
   "codemirror_mode": {
    "name": "ipython",
    "version": 2
   },
   "file_extension": ".py",
   "mimetype": "text/x-python",
   "name": "python",
   "nbconvert_exporter": "python",
   "pygments_lexer": "ipython2",
   "version": "2.7.6"
  }
 },
 "nbformat": 4,
 "nbformat_minor": 5
}
