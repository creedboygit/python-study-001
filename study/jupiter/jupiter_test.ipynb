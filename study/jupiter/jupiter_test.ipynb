{
 "cells": [
  {
   "cell_type": "code",
   "outputs": [],
   "source": [
    "import time\n",
    "\n",
    "import pyautogui\n",
    "import pyperclip\n",
    "from selenium.webdriver.common.by import By\n",
    "from webdriver_manager.chrome import ChromeDriverManager\n",
    "from selenium.webdriver.chrome.service import Service\n",
    "from selenium import webdriver\n",
    "from selenium.webdriver.chrome.options import Options"
   ],
   "metadata": {
    "collapsed": false,
    "ExecuteTime": {
     "end_time": "2024-01-13T04:18:36.628514Z",
     "start_time": "2024-01-13T04:18:36.626009100Z"
    }
   },
   "id": "6982182345b28ab5",
   "execution_count": 72
  },
  {
   "cell_type": "code",
   "outputs": [],
   "source": [
    "service = Service(excutable_path=ChromeDriverManager().install())"
   ],
   "metadata": {
    "collapsed": true,
    "ExecuteTime": {
     "end_time": "2024-01-13T04:18:37.404515200Z",
     "start_time": "2024-01-13T04:18:36.631514Z"
    }
   },
   "id": "initial_id",
   "execution_count": 73
  },
  {
   "cell_type": "code",
   "outputs": [],
   "source": [
    "chrome_options = Options()\n",
    "chrome_options.add_experimental_option('detach', True)"
   ],
   "metadata": {
    "collapsed": false,
    "ExecuteTime": {
     "end_time": "2024-01-13T04:18:37.407088700Z",
     "start_time": "2024-01-13T04:18:37.405583800Z"
    }
   },
   "id": "1735616e484761",
   "execution_count": 74
  },
  {
   "cell_type": "code",
   "outputs": [],
   "source": [
    "chrome_options.add_experimental_option(\"excludeSwitches\", [\"enable-logging\"])"
   ],
   "metadata": {
    "collapsed": false,
    "ExecuteTime": {
     "end_time": "2024-01-13T04:18:37.411210600Z",
     "start_time": "2024-01-13T04:18:37.408705800Z"
    }
   },
   "id": "f46a61a22aae1fc0",
   "execution_count": 75
  },
  {
   "cell_type": "code",
   "outputs": [],
   "source": [
    "driver = webdriver.Chrome(service=service, options=chrome_options)\n",
    "\n",
    "driver.implicitly_wait(5)\n",
    "driver.maximize_window()\n",
    "\n",
    "driver.get(\"https://nid.naver.com/nidlogin.login?mode=form&url=https://www.naver.com/\")"
   ],
   "metadata": {
    "collapsed": false,
    "ExecuteTime": {
     "end_time": "2024-01-13T04:18:38.867713300Z",
     "start_time": "2024-01-13T04:18:37.411210600Z"
    }
   },
   "id": "59ec326b9aca7094",
   "execution_count": 76
  },
  {
   "cell_type": "code",
   "outputs": [],
   "source": [
    "id = driver.find_element(By.CSS_SELECTOR, \"#id\")\n",
    "id.click()\n",
    "pyperclip.copy('1111')\n",
    "pyautogui.hotkey('ctrl', 'v')\n",
    "time.sleep(2)"
   ],
   "metadata": {
    "collapsed": false,
    "ExecuteTime": {
     "end_time": "2024-01-13T04:20:54.105176900Z",
     "start_time": "2024-01-13T04:20:51.982539900Z"
    }
   },
   "id": "746068635c0ca37",
   "execution_count": 94
  },
  {
   "cell_type": "code",
   "outputs": [],
   "source": [
    "pw = driver.find_element(By.CSS_SELECTOR, \"#pw\")\n",
    "pw.click()"
   ],
   "metadata": {
    "collapsed": false,
    "ExecuteTime": {
     "end_time": "2024-01-13T04:20:10.057266700Z",
     "start_time": "2024-01-13T04:20:10.035546100Z"
    }
   },
   "id": "ebd540c88493b4ca",
   "execution_count": 89
  },
  {
   "cell_type": "code",
   "outputs": [],
   "source": [
    "pyperclip.copy('2222')\n",
    "pyautogui.hotkey('ctrl', 'v')"
   ],
   "metadata": {
    "collapsed": false,
    "ExecuteTime": {
     "end_time": "2024-01-13T04:20:13.483434300Z",
     "start_time": "2024-01-13T04:20:13.378832800Z"
    }
   },
   "id": "e4edd09d0f43f246",
   "execution_count": 90
  }
 ],
 "metadata": {
  "kernelspec": {
   "display_name": "Python 3",
   "language": "python",
   "name": "python3"
  },
  "language_info": {
   "codemirror_mode": {
    "name": "ipython",
    "version": 2
   },
   "file_extension": ".py",
   "mimetype": "text/x-python",
   "name": "python",
   "nbconvert_exporter": "python",
   "pygments_lexer": "ipython2",
   "version": "2.7.6"
  }
 },
 "nbformat": 4,
 "nbformat_minor": 5
}
